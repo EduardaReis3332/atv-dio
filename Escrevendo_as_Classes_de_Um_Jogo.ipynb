{
  "nbformat": 4,
  "nbformat_minor": 0,
  "metadata": {
    "colab": {
      "provenance": [],
      "authorship_tag": "ABX9TyN5u/OwtcZrRx5UfFOlZR7w",
      "include_colab_link": true
    },
    "kernelspec": {
      "name": "python3",
      "display_name": "Python 3"
    },
    "language_info": {
      "name": "python"
    }
  },
  "cells": [
    {
      "cell_type": "markdown",
      "metadata": {
        "id": "view-in-github",
        "colab_type": "text"
      },
      "source": [
        "<a href=\"https://colab.research.google.com/github/EduardaReis3332/atv-dio/blob/main/Escrevendo_as_Classes_de_Um_Jogo.ipynb\" target=\"_parent\"><img src=\"https://colab.research.google.com/assets/colab-badge.svg\" alt=\"Open In Colab\"/></a>"
      ]
    },
    {
      "cell_type": "code",
      "execution_count": null,
      "metadata": {
        "id": "6CMBYLysnPjF"
      },
      "outputs": [],
      "source": [
        "# Classe que representa um herói de uma aventura\n",
        "class Heroi:\n",
        "    def __init__(self, nome, idade, tipo):\n",
        "        self.nome = nome\n",
        "        self.idade = idade\n",
        "        self.tipo = tipo.lower()\n",
        "\n",
        "    def atacar(self):\n",
        "        if self.tipo == \"mago\":\n",
        "            ataque = \"usou magia\"\n",
        "        elif self.tipo == \"guerreiro\":\n",
        "            ataque = \"usou espada\"\n",
        "        elif self.tipo == \"monge\":\n",
        "            ataque = \"usou artes marciais\"\n",
        "        elif self.tipo == \"ninja\":\n",
        "            ataque = \"usou shuriken\"\n",
        "        else:\n",
        "            ataque = \"usou um ataque desconhecido\"\n",
        "\n",
        "        print(f\"O {self.tipo} atacou usando {ataque}\")"
      ]
    },
    {
      "cell_type": "code",
      "source": [
        "def main():\n",
        "    print(\"Crie seu herói!\")\n",
        "    nome = input(\"Digite o nome do herói: \")\n",
        "    idade = input(\"Digite a idade do herói: \")\n",
        "    tipo = input(\"Digite o tipo do herói (guerreiro, mago, monge, ninja): \")\n",
        "\n",
        "    heroi = Heroi(nome, idade, tipo)\n",
        "    heroi.atacar()"
      ],
      "metadata": {
        "id": "lQe24BKOnqOO"
      },
      "execution_count": null,
      "outputs": []
    },
    {
      "cell_type": "code",
      "source": [
        "main()"
      ],
      "metadata": {
        "colab": {
          "base_uri": "https://localhost:8080/"
        },
        "id": "eUiqB-VQnzBM",
        "outputId": "bf332eea-c664-4a2c-84b4-9d082b53f7bf"
      },
      "execution_count": null,
      "outputs": [
        {
          "output_type": "stream",
          "name": "stdout",
          "text": [
            "Crie seu herói!\n",
            "Digite o nome do herói: luna\n",
            "Digite a idade do herói: 26\n",
            "Digite o tipo do herói (guerreiro, mago, monge, ninja): mago\n",
            "O mago atacou usando usou magia\n"
          ]
        }
      ]
    }
  ]
}